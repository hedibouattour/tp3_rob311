{
  "nbformat": 4,
  "nbformat_minor": 0,
  "metadata": {
    "colab": {
      "name": "Collector.ipynb",
      "version": "0.3.2",
      "provenance": [],
      "include_colab_link": true
    },
    "language_info": {
      "codemirror_mode": {
        "name": "ipython",
        "version": 2
      },
      "file_extension": ".py",
      "mimetype": "text/x-python",
      "name": "python",
      "nbconvert_exporter": "python",
      "pygments_lexer": "ipython2",
      "version": "2.7.12"
    },
    "kernelspec": {
      "display_name": "Python 2",
      "language": "python",
      "name": "python2"
    }
  },
  "cells": [
    {
      "cell_type": "markdown",
      "metadata": {
        "id": "view-in-github",
        "colab_type": "text"
      },
      "source": [
        "<a href=\"https://colab.research.google.com/github/hedibouattour/tp3_rob311/blob/master/Collector.ipynb\" target=\"_parent\"><img src=\"https://colab.research.google.com/assets/colab-badge.svg\" alt=\"Open In Colab\"/></a>"
      ]
    },
    {
      "cell_type": "markdown",
      "metadata": {
        "id": "cmt9DjJ2bl33",
        "colab_type": "text"
      },
      "source": [
        "# Extract Data "
      ]
    },
    {
      "cell_type": "code",
      "metadata": {
        "scrolled": true,
        "id": "r7dna8ptbl3-",
        "colab_type": "code",
        "colab": {}
      },
      "source": [
        "import urlparse\n",
        "import requests\n",
        "from urllib import urlencode"
      ],
      "execution_count": 0,
      "outputs": []
    },
    {
      "cell_type": "code",
      "metadata": {
        "id": "LgBwEZGfbl4R",
        "colab_type": "code",
        "colab": {}
      },
      "source": [
        "main_api = 'http://localhost:9090/api/v1/query_range?'\n",
        "#time = '&start=2019-04-25T16:00:00.781Z&end=2019-05-02T03:00:00.001Z&step=5s'\n",
        "#time = '&start=2019-05-15T12:49:00.781Z&end=2019-05-15T13:49:00.001Z&step=5s'     # ---> Overload\n",
        "#time = '&start=2019-05-16T00:00:00.781Z&end=2019-05-16T03:00:00.001Z&step=5s'     # ---> normal 1\n",
        "#time = '&start=2019-05-17T00:50:00.781Z&end=2019-05-17T05:19:00.001Z&step=5s'     # ---> normal 2\n",
        "#time = '&start=2019-05-16T23:41:00.781Z&end=2019-05-17T00:11:00.001Z&step=5s'     # ---> noise 1\n",
        "#time = '&start=2019-05-16T22:45:00.781Z&end=2019-05-16T23:06:00.001Z&step=5s'     # ---> noise 2\n",
        "#time = '&start=2019-05-16T21:50:00.781Z&end=2019-05-16T22:11:00.001Z&step=5s'     # ---> noise 3\n",
        "#time = '&start=2019-05-16T21:30:00.781Z&end=2019-05-16T22:33:00.001Z&step=5s'     # ---> noise 4\n",
        "#time = '&start=2019-05-16T17:00:00.781Z&end=2019-05-16T17:04:00.001Z&step=5s'     # ---> noise 5\n",
        "#time = '&start=2019-05-16T16:24:30.781Z&end=2019-05-16T16:27:30.001Z&step=5s'     # ---> noise 6\n",
        "#time = '&start=2019-05-16T16:11:00.781Z&end=2019-05-16T16:23:00.001Z&step=5s'     # ---> noise 7\n",
        "#time = '&start=2019-05-16T16:02:00.781Z&end=2019-05-16T16:05:00.001Z&step=5s'     # ---> noise 8\n",
        "#time = '&start=2019-05-16T14:40:30.781Z&end=2019-05-16T14:44:00.001Z&step=5s'     # ---> noise 9\n",
        "#time = '&start=2019-05-20T15:00:30.781Z&end=2019-05-21T03:00:00.001Z&step=5s'     # ---> normal 3\n",
        "\n",
        "#new\n",
        "time = '&start=2019-05-23T17:00:00.781Z&end=2019-05-23T018:00:00.001Z&step=5s'     # ---> TEST"
      ],
      "execution_count": 0,
      "outputs": []
    },
    {
      "cell_type": "code",
      "metadata": {
        "id": "gPqx93Uabl4h",
        "colab_type": "code",
        "colab": {}
      },
      "source": [
        "query1 = '100 - (avg by (job) (irate(node_cpu_seconds_total{mode=\"idle\"}[5m])) * 100)'\n",
        "query2 = '100 * (1 - ((avg_over_time(node_memory_MemFree_bytes[5m]) + avg_over_time(node_memory_Cached_bytes[5m]) + avg_over_time(node_memory_Buffers_bytes[5m])) / avg_over_time(node_memory_MemTotal_bytes[5m])))'\n",
        "query3 = 'rate(node_network_receive_bytes_total[5m])'\n",
        "query4 = 'rate(node_network_transmit_bytes_total[5m])'"
      ],
      "execution_count": 0,
      "outputs": []
    },
    {
      "cell_type": "code",
      "metadata": {
        "id": "Xckw3ZJgbl4x",
        "colab_type": "code",
        "colab": {}
      },
      "source": [
        "url1 = main_api + urlencode({'query': query1}) + time\n",
        "url2 = main_api + urlencode({'query': query2})+ time\n",
        "url3 = main_api + urlencode({'query': query3})+ time\n",
        "url4 = main_api + urlencode({'query': query4})+ time"
      ],
      "execution_count": 0,
      "outputs": []
    },
    {
      "cell_type": "code",
      "metadata": {
        "scrolled": true,
        "id": "29vq2kUzbl47",
        "colab_type": "code",
        "outputId": "bd0322a8-6c19-4bf5-9bbd-99af8cebf3ee",
        "colab": {}
      },
      "source": [
        "print url1\n",
        "print url2\n",
        "print url3\n",
        "print url4\n",
        "\n",
        "json_data1 = requests.get(url1).json()\n",
        "json_data2 = requests.get(url2).json()\n",
        "json_data3 = requests.get(url3).json()\n",
        "json_data4 = requests.get(url4).json()\n",
        "#print(json_data1)"
      ],
      "execution_count": 0,
      "outputs": [
        {
          "output_type": "stream",
          "text": [
            "http://192.168.204.16:9375/api/v1/query_range?query=100+-+%28avg+by+%28job%29+%28irate%28node_cpu_seconds_total%7Bmode%3D%22idle%22%7D%5B5m%5D%29%29+%2A+100%29&start=2019-05-16T14:40:30.781Z&end=2019-05-16T14:44:00.001Z&step=5s\n",
            "http://192.168.204.16:9375/api/v1/query_range?query=100+%2A+%281+-+%28%28avg_over_time%28node_memory_MemFree_bytes%5B5m%5D%29+%2B+avg_over_time%28node_memory_Cached_bytes%5B5m%5D%29+%2B+avg_over_time%28node_memory_Buffers_bytes%5B5m%5D%29%29+%2F+avg_over_time%28node_memory_MemTotal_bytes%5B5m%5D%29%29%29&start=2019-05-16T14:40:30.781Z&end=2019-05-16T14:44:00.001Z&step=5s\n",
            "http://192.168.204.16:9375/api/v1/query_range?query=rate%28node_network_receive_bytes_total%5B5m%5D%29&start=2019-05-16T14:40:30.781Z&end=2019-05-16T14:44:00.001Z&step=5s\n",
            "http://192.168.204.16:9375/api/v1/query_range?query=rate%28node_network_transmit_bytes_total%5B5m%5D%29&start=2019-05-16T14:40:30.781Z&end=2019-05-16T14:44:00.001Z&step=5s\n"
          ],
          "name": "stdout"
        }
      ]
    },
    {
      "cell_type": "markdown",
      "metadata": {
        "id": "PMreW2Uybl5H",
        "colab_type": "text"
      },
      "source": [
        "# Create CSV File"
      ]
    },
    {
      "cell_type": "code",
      "metadata": {
        "id": "NqXjWJqEbl5J",
        "colab_type": "code",
        "colab": {}
      },
      "source": [
        "import csv"
      ],
      "execution_count": 0,
      "outputs": []
    },
    {
      "cell_type": "code",
      "metadata": {
        "id": "Otevenmebl5a",
        "colab_type": "code",
        "colab": {}
      },
      "source": [
        "fname = \"collector.csv\"\n",
        "file_csv = open(fname, \"w\")\n",
        "writer = csv.writer(file_csv)"
      ],
      "execution_count": 0,
      "outputs": []
    },
    {
      "cell_type": "code",
      "metadata": {
        "id": "BatvaYdSbl5l",
        "colab_type": "code",
        "outputId": "9ce8e603-de39-44e8-884e-95a37712bc6f",
        "colab": {}
      },
      "source": [
        "supervised_resources_cpu = len(json_data1['data']['result'])\n",
        "resources_MAP_cpu = {}\n",
        "print \"The number of supervised VMs and servers is: \" + str (supervised_resources_cpu) \n",
        "for i in range(supervised_resources_cpu):\n",
        "    print json_data1['data']['result'][i]['metric']['job']\n",
        "    resources_MAP_cpu [json_data1['data']['result'][i]['metric']['job']] = i\n",
        "print resources_MAP_cpu"
      ],
      "execution_count": 0,
      "outputs": [
        {
          "output_type": "stream",
          "text": [
            "The number of supervised VMs and servers is: 7\n",
            "fibonacci_vm_2\n",
            "h2020-server1\n",
            "h2020-server2\n",
            "h2020-server3\n",
            "h2020-server4\n",
            "h2020-server5\n",
            "iot-noisy-vm\n",
            "{u'iot-noisy-vm': 6, u'h2020-server1': 1, u'fibonacci_vm_2': 0, u'h2020-server3': 3, u'h2020-server2': 2, u'h2020-server5': 5, u'h2020-server4': 4}\n"
          ],
          "name": "stdout"
        }
      ]
    },
    {
      "cell_type": "code",
      "metadata": {
        "id": "Lurt_AnNbl56",
        "colab_type": "code",
        "outputId": "6bed6c0f-fe52-43c6-bacb-5b16f7c4ae52",
        "colab": {}
      },
      "source": [
        "supervised_resources_mem = len(json_data2['data']['result'])\n",
        "resources_MAP_mem = {}\n",
        "print \"The number of supervised VMs and servers is: \" + str (supervised_resources_mem) \n",
        "for i in range(supervised_resources_mem):\n",
        "    print json_data2['data']['result'][i]['metric']['job']\n",
        "    resources_MAP_mem [json_data2['data']['result'][i]['metric']['job']] = i\n",
        "print resources_MAP_mem"
      ],
      "execution_count": 0,
      "outputs": [
        {
          "output_type": "stream",
          "text": [
            "The number of supervised VMs and servers is: 7\n",
            "fibonacci_vm_2\n",
            "iot-noisy-vm\n",
            "h2020-server1\n",
            "h2020-server2\n",
            "h2020-server3\n",
            "h2020-server4\n",
            "h2020-server5\n",
            "{u'iot-noisy-vm': 1, u'h2020-server1': 2, u'fibonacci_vm_2': 0, u'h2020-server3': 4, u'h2020-server2': 3, u'h2020-server5': 6, u'h2020-server4': 5}\n"
          ],
          "name": "stdout"
        }
      ]
    },
    {
      "cell_type": "code",
      "metadata": {
        "id": "vp8Jih_jbl6T",
        "colab_type": "code",
        "outputId": "c314ba99-8e1f-4cd3-89a8-fb70bc903e27",
        "colab": {}
      },
      "source": [
        "supervised_network_interfaces_netin = len(json_data3['data']['result'])\n",
        "network_interface_MAP_netin = {}\n",
        "print \"The number of supervised network interfaces is : \" + str (supervised_network_interfaces_netin) \n",
        "\n",
        "for i in range(supervised_network_interfaces_netin):\n",
        "    #print json_data3['data']['result'][i]['metric']['job']\n",
        "    network_interface_MAP_netin [json_data3['data']['result'][i]['metric']['job'] + ' ' \n",
        "                           + json_data3['data']['result'][i]['metric']['device']]=i\n",
        "#print network_interface_MAP\n",
        "print network_interface_MAP_netin['iot-noisy-vm ens4']\n",
        "\n",
        "#print json_data3['data']['result'][network_interface_MAP['iot-noisy-vm ens4']]['metric']\n",
        "#print json_data1['data']['result'][resources_MAP['iot-noisy-vm']]['values'][10]\n",
        "#print json_data2['data']['result'][resources_MAP['iot-noisy-vm']]['values'][10]\n",
        "#print json_data3['data']['result'][network_interface_MAP['iot-noisy-vm ens4']]['values'][10]\n",
        "#print json_data4['data']['result'][network_interface_MAP['iot-noisy-vm ens4']]['values'][10]"
      ],
      "execution_count": 0,
      "outputs": [
        {
          "output_type": "stream",
          "text": [
            "The number of supervised network interfaces is : 301\n",
            "73\n"
          ],
          "name": "stdout"
        }
      ]
    },
    {
      "cell_type": "code",
      "metadata": {
        "id": "mLlFwwfqbl6g",
        "colab_type": "code",
        "outputId": "58740d0b-2673-4322-b490-cebf18f7b6d7",
        "colab": {}
      },
      "source": [
        "supervised_network_interfaces_netout = len(json_data4['data']['result'])\n",
        "network_interface_MAP_netout = {}\n",
        "print \"The number of supervised network interfaces is : \" + str (supervised_network_interfaces_netout) \n",
        "\n",
        "for i in range(supervised_network_interfaces_netout):\n",
        "    #print json_data3['data']['result'][i]['metric']['job']\n",
        "    network_interface_MAP_netout [json_data4['data']['result'][i]['metric']['job'] + ' ' \n",
        "                           + json_data4['data']['result'][i]['metric']['device']]=i\n",
        "#print network_interface_MAP\n",
        "print network_interface_MAP_netout['iot-noisy-vm ens4']"
      ],
      "execution_count": 0,
      "outputs": [
        {
          "output_type": "stream",
          "text": [
            "The number of supervised network interfaces is : 301\n",
            "73\n"
          ],
          "name": "stdout"
        }
      ]
    },
    {
      "cell_type": "code",
      "metadata": {
        "id": "MjDY5khRbl6u",
        "colab_type": "code",
        "colab": {}
      },
      "source": [
        "#writer.writerow( ('timestamp', 'cpu_usage', 'memory', 'inbound', 'outbound', 'label','class') )"
      ],
      "execution_count": 0,
      "outputs": []
    },
    {
      "cell_type": "code",
      "metadata": {
        "id": "5tpL26G_bl62",
        "colab_type": "code",
        "colab": {}
      },
      "source": [
        "for i in range (len (json_data1['data']['result'][resources_MAP_cpu['iot-noisy-vm']]['values']) ):\n",
        "    writer.writerow( (json_data1['data']['result'][resources_MAP_cpu['iot-noisy-vm']]['values'][i][0],\n",
        "                      json_data1['data']['result'][resources_MAP_cpu['iot-noisy-vm']]['values'][i][1], \n",
        "                      json_data2['data']['result'][resources_MAP_mem['iot-noisy-vm']]['values'][i][1], \n",
        "                      json_data3['data']['result'][network_interface_MAP_netin['iot-noisy-vm ens4']]['values'][i][1], \n",
        "                      json_data4['data']['result'][network_interface_MAP_netout['iot-noisy-vm ens4']]['values'][i][1], 'noise',1) )"
      ],
      "execution_count": 0,
      "outputs": []
    },
    {
      "cell_type": "code",
      "metadata": {
        "id": "ZNBvTwZibl69",
        "colab_type": "code",
        "colab": {}
      },
      "source": [
        "file_csv.close()"
      ],
      "execution_count": 0,
      "outputs": []
    },
    {
      "cell_type": "markdown",
      "metadata": {
        "id": "kJQPKsz4bl7G",
        "colab_type": "text"
      },
      "source": [
        "#Concatenate csv files"
      ]
    },
    {
      "cell_type": "code",
      "metadata": {
        "id": "S06r5AOubl7K",
        "colab_type": "code",
        "colab": {}
      },
      "source": [
        "import os \n",
        "import csv\n",
        "import glob\n",
        "import pandas as pd"
      ],
      "execution_count": 0,
      "outputs": []
    },
    {
      "cell_type": "code",
      "metadata": {
        "id": "j664Lel4bl7R",
        "colab_type": "code",
        "colab": {}
      },
      "source": [
        "csvfiles = glob.glob('/home/container/collector/collector*.csv')\n",
        "finaldata = open('/home/container/collector/finaldata.csv', \"w\")\n",
        "wf = csv.writer(finaldata, delimiter = ',')\n",
        "#wf = csv.writer(open('/home/container/collector/finaldata.csv','w'),delimiter = ',')\n",
        "wf.writerow( ('timestamp', 'cpu_usage', 'memory', 'inbound', 'outbound', 'label','class') )"
      ],
      "execution_count": 0,
      "outputs": []
    },
    {
      "cell_type": "code",
      "metadata": {
        "scrolled": false,
        "id": "0xcKeFAxbl7f",
        "colab_type": "code",
        "colab": {}
      },
      "source": [
        "for files in csvfiles:\n",
        "    rd = csv.reader(open(files, 'r'), delimiter = ',')\n",
        "    next(rd)\n",
        "    for row in rd:\n",
        "        #print (row)\n",
        "        wf.writerow(row)\n",
        "        \n",
        "finaldata.close()"
      ],
      "execution_count": 0,
      "outputs": []
    },
    {
      "cell_type": "code",
      "metadata": {
        "id": "7-rUUsigbl76",
        "colab_type": "code",
        "colab": {}
      },
      "source": [
        ""
      ],
      "execution_count": 0,
      "outputs": []
    }
  ]
}